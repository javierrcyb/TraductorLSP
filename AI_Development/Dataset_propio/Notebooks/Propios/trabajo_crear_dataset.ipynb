{
 "cells": [
  {
   "cell_type": "code",
   "execution_count": 1,
   "id": "0fd789e2",
   "metadata": {},
   "outputs": [],
   "source": [
    "import cv2\n",
    "import os\n",
    "import sys\n",
    "import numpy as np\n",
    "import argparse\n",
    "sys.path.append(os.getcwd())\n",
    "import utils.video as uv\n",
    "from os import path, listdir\n",
    "from os.path import isfile, join, exists"
   ]
  },
  {
   "cell_type": "code",
   "execution_count": 9,
   "id": "1f193a3a",
   "metadata": {},
   "outputs": [],
   "source": [
    "def chequear_carac_video(video_path):\n",
    "    \"\"\"Muestra las características principales de un video\"\"\"\n",
    "    cap = cv2.VideoCapture(video_path)\n",
    "    if not cap.isOpened():\n",
    "        print(\"No se pudo abrir el video\")\n",
    "        return None\n",
    "    \n",
    "    width  = int(cap.get(cv2.CAP_PROP_FRAME_WIDTH))  \n",
    "    height = int(cap.get(cv2.CAP_PROP_FRAME_HEIGHT))  \n",
    "    fps    = cap.get(cv2.CAP_PROP_FPS)               \n",
    "    frames = int(cap.get(cv2.CAP_PROP_FRAME_COUNT))  \n",
    "    duration = frames / fps                           \n",
    "\n",
    "    print(f\"Video: {os.path.basename(video_path)}\")\n",
    "    print(f\"Resolución: {width}x{height}\")\n",
    "    print(f\"FPS: {fps}\")\n",
    "    print(f\"Total de frames: {frames}\")\n",
    "    print(f\"Duración: {duration/60:.2f} minutos\")\n",
    "    cap.release()\n",
    "    return fps, width, height"
   ]
  },
  {
   "cell_type": "code",
   "execution_count": 10,
   "id": "45062fb5",
   "metadata": {},
   "outputs": [
    {
     "name": "stdout",
     "output_type": "stream",
     "text": [
      "Video: ira_alegria.mp4\n",
      "Resolución: 1280x720\n",
      "FPS: 29.97002997002997\n",
      "Total de frames: 51582\n",
      "Duración: 28.69 minutos\n"
     ]
    },
    {
     "data": {
      "text/plain": [
       "(29.97002997002997, 1280, 720)"
      ]
     },
     "execution_count": 10,
     "metadata": {},
     "output_type": "execute_result"
    }
   ],
   "source": [
    "video_path = r\"./Data/AEC/Videos/RawVideo/ira_alegria.mp4\"\n",
    "chequear_carac_video(video_path)"
   ]
  },
  {
   "cell_type": "code",
   "execution_count": 64,
   "id": "ae426669",
   "metadata": {},
   "outputs": [
    {
     "name": "stdout",
     "output_type": "stream",
     "text": [
      "Video: Historias vinetas (2)_crop.mp4\n",
      "Resolución: 220x220\n",
      "FPS: 29.941\n",
      "Total de frames: 3045\n",
      "Duración: 1.70 minutos\n"
     ]
    },
    {
     "data": {
      "text/plain": [
       "(29.941, 220, 220)"
      ]
     },
     "execution_count": 64,
     "metadata": {},
     "output_type": "execute_result"
    }
   ],
   "source": [
    "video_path = r\"./Historias vinetas (2)_crop.mp4\"\n",
    "chequear_carac_video(video_path)"
   ]
  },
  {
   "cell_type": "code",
   "execution_count": 56,
   "id": "376412b9",
   "metadata": {},
   "outputs": [],
   "source": [
    "import cv2\n",
    "import mediapipe as mp\n",
    "\n",
    "def saber_coordenadas_videos(video_path, frames_to_check=30, margin=230):\n",
    "    \"\"\"Detecta un ROI automáticamente en los primeros frames del video usando MediaPipe\"\"\"\n",
    "    cap = cv2.VideoCapture(video_path)\n",
    "    mp_holistic = mp.solutions.holistic\n",
    "\n",
    "    x_min, y_min, x_max, y_max = 9999, 9999, 0, 0\n",
    "    w, h = 0, 0\n",
    "\n",
    "    with mp_holistic.Holistic(min_detection_confidence=0.5) as holistic:\n",
    "        for _ in range(frames_to_check):\n",
    "            ret, frame = cap.read()\n",
    "            if not ret:\n",
    "                break\n",
    "            h, w, _ = frame.shape\n",
    "            results = holistic.process(cv2.cvtColor(frame, cv2.COLOR_BGR2RGB))\n",
    "\n",
    "            if results.pose_landmarks:\n",
    "                xs = [lm.x * w for lm in results.pose_landmarks.landmark]\n",
    "                ys = [lm.y * h for lm in results.pose_landmarks.landmark]\n",
    "                x_min, x_max = min(x_min, min(xs)), max(x_max, max(xs))\n",
    "                y_min, y_max = min(y_min, min(ys)), max(y_max, max(ys))\n",
    "\n",
    "    cap.release()\n",
    "\n",
    "    # Expandir ROI con margen extra\n",
    "    x_min = max(0, int(x_min - margin))\n",
    "    y_min = max(0, int(y_min - margin))\n",
    "    x_max = min(w, int(x_max + margin))\n",
    "    y_max = min(h, int(y_max + margin))\n",
    "\n",
    "    print(f\"ROI auto detectado (con margen {margin}px): x={x_min}, y={y_min}, w={x_max-x_min}, h={y_max-y_min}\")\n",
    "    return x_min, x_max, y_min, y_max\n",
    "\n"
   ]
  },
  {
   "cell_type": "code",
   "execution_count": 62,
   "id": "fa6cab49",
   "metadata": {},
   "outputs": [],
   "source": [
    "def crop_video(input_path, output_path, target_size=(220, 220)):\n",
    "    \"\"\"Recorta un video en base a un ROI detectado automáticamente, redimensiona a 220x220 y guarda la salida\"\"\"\n",
    "    # Verificar características\n",
    "    fps, width, height = chequear_carac_video(input_path)\n",
    "\n",
    "    # Detectar coordenadas ROI (no altero margin)\n",
    "    x_min, x_max, y_min, y_max = saber_coordenadas_videos(input_path)\n",
    "\n",
    "    # Abrir video original\n",
    "    cap = cv2.VideoCapture(input_path)\n",
    "    if not cap.isOpened():\n",
    "        print(f\"No se pudo abrir el video: {input_path}\")\n",
    "        sys.exit(1)\n",
    "\n",
    "    # Definir VideoWriter con tamaño fijo target_size\n",
    "    fcc = cv2.VideoWriter_fourcc(*'mp4v')\n",
    "    out = cv2.VideoWriter(output_path, fcc, fps, target_size)\n",
    "\n",
    "    # Procesar frame por frame\n",
    "    while True:\n",
    "        ret, frame = cap.read()\n",
    "        if not ret:\n",
    "            break\n",
    "\n",
    "        crop_frame = frame[y_min:y_max, x_min:x_max]  # recorte según ROI\n",
    "        resized_frame = cv2.resize(crop_frame, target_size, interpolation=cv2.INTER_AREA)  # redimensionar\n",
    "\n",
    "        out.write(resized_frame)\n",
    "\n",
    "    cap.release()\n",
    "    out.release()\n",
    "    cv2.destroyAllWindows()\n",
    "\n",
    "    print(f\"Video recortado y redimensionado guardado en {output_path}\")\n"
   ]
  },
  {
   "cell_type": "code",
   "execution_count": 60,
   "id": "4fc52259",
   "metadata": {},
   "outputs": [],
   "source": [
    "def final_crop_video():\n",
    "\n",
    "    rawVideoPath = \"./Data/PUCP_PSL_DGI156/Videos/original/\"\n",
    "    inputName = \"Historias vinetas (2)\"\n",
    "    outputVideoPath = \"./\"\n",
    "\n",
    "    # Crear carpeta de salida si no existe\n",
    "    os.makedirs(outputVideoPath, exist_ok=True)\n",
    "\n",
    "    input_path = os.path.join(rawVideoPath, inputName + \".mp4\")\n",
    "    output_path = os.path.join(outputVideoPath, inputName + \"_crop.mp4\")\n",
    "\n",
    "    crop_video(input_path, output_path)"
   ]
  },
  {
   "cell_type": "code",
   "execution_count": 63,
   "id": "38677420",
   "metadata": {},
   "outputs": [
    {
     "name": "stdout",
     "output_type": "stream",
     "text": [
      "Video: Historias vinetas (2).mp4\n",
      "Resolución: 1920x1080\n",
      "FPS: 29.94124828948123\n",
      "Total de frames: 3045\n",
      "Duración: 1.69 minutos\n",
      "ROI auto detectado (con margen 230px): x=451, y=0, w=1191, h=1080\n",
      "Video recortado y redimensionado guardado en ./Historias vinetas (2)_crop.mp4\n"
     ]
    }
   ],
   "source": [
    "final_crop_video()"
   ]
  }
 ],
 "metadata": {
  "kernelspec": {
   "display_name": "Python 3",
   "language": "python",
   "name": "python3"
  },
  "language_info": {
   "codemirror_mode": {
    "name": "ipython",
    "version": 3
   },
   "file_extension": ".py",
   "mimetype": "text/x-python",
   "name": "python",
   "nbconvert_exporter": "python",
   "pygments_lexer": "ipython3",
   "version": "3.10.11"
  }
 },
 "nbformat": 4,
 "nbformat_minor": 5
}
