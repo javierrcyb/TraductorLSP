{
 "cells": [
  {
   "cell_type": "markdown",
   "id": "ac459720",
   "metadata": {},
   "source": [
    "Este proceso de dataset es para el modelo de trabajo Static Peruvian Sign Language Classifier Based on Manual Spelling Using a Convolutional Neural Network de los autores Gerardo Portocarrero-Banda1, Eveling Gloria Castro-Gutierrez, Abdel Alejandro Portocarrero-Banda, Claudia Acra-Despradel, David Rondon, Hugo Guillermo Jimenez-Pacheco and Miguel Angel Ortiz-Esparza. El trabajo se puede encontrar en el siguiente link: https://ceur-ws.org/Vol-3693/paper17.pdf"
   ]
  },
  {
   "cell_type": "markdown",
   "id": "3eafd332",
   "metadata": {},
   "source": [
    "Las caracteristicas del dataset son las siguientes:\n",
    "- Origen: Imágenes de señas estáticas del alfabeto de la Lengua de Señas Peruana (PSL)\n",
    "- Clases:\n",
    "  - 24 letras del alfabeto PSL.\n",
    "  - 1 clase adicional \"nothing\" (gestos o imágenes que no corresponden a ninguna seña PSL, para diferenciar gestos externos).\n",
    "- Distribución:\n",
    "  - Entrenamiento: 63%\n",
    "  - Validación: 7%\n",
    "  - Prueba: 30%\n",
    "- Frames por clase: 121 frames por cada letra estática."
   ]
  },
  {
   "cell_type": "markdown",
   "id": "a52c3e5e",
   "metadata": {},
   "source": [
    "El preprocesamiento:\n",
    "1. Cambio de modelo de color\n",
    "  - Conversión de RGB → YCbCr para separar cromaticidad y luminancia, facilitando la detección de piel en condiciones de iluminación variable.\n",
    "  - Componentes:\n",
    "    - Y: luminancia (brillo)\n",
    "    - Cb: diferencia de color azul\n",
    "    - Cr: diferencia de color rojo\n",
    "  - Fórmulas (valores normalizados R’, G’, B’ ∈ [0,1]):\n",
    "    - Y=16+(65.481⋅R′+128.553⋅G′+24.966⋅B′)\n",
    "    - Cb=128+(−37.797⋅R′−74.203⋅G′+112.0⋅B′)\n",
    "    - Cr=128+(112.0⋅R′−93.786⋅G′−18.214⋅B′)\n",
    "2. Detección de color de piel\n",
    "  - Un píxel se considera piel si:\n",
    "$$\n",
    "0 < Y < 255 \\\\\n",
    "133 < C_b < 173 \\\\\n",
    "77 < C_r < 127\n",
    "$$\n",
    "  - Esto filtra el resto del entorno, reduciendo ruido (ej. gafas, joyas, objetos de fondo).\n",
    "3. Cambio de resolución\n",
    "  - Todas las imágenes se redimensionan a 224 × 224 píxeles.\n",
    "4. Normalización\n",
    "  - Escalado de valores de píxel a rango [0,1] dividiendo entre 255.\n",
    "  - Permite un dataset más ligero y manejable."
   ]
  },
  {
   "cell_type": "markdown",
   "id": "5c5ce1e9",
   "metadata": {},
   "source": [
    "# Cargar Dataset\n"
   ]
  },
  {
   "cell_type": "code",
   "execution_count": 1,
   "id": "4f553575",
   "metadata": {},
   "outputs": [],
   "source": [
    "import cv2\n",
    "import numpy as np\n",
    "import os"
   ]
  },
  {
   "cell_type": "code",
   "execution_count": 6,
   "id": "7eb05d89",
   "metadata": {},
   "outputs": [
    {
     "name": "stdout",
     "output_type": "stream",
     "text": [
      "Dataset path: c:\\Users\\sebas\\Documents\\Programacion\\project\\TraductorLSP\\Static-Hand-Gestures-of-the-Peruvian-Sign-Language-Alphabet-master\n",
      "Output path: c:\\Users\\sebas\\Documents\\Programacion\\project\\TraductorLSP\\CreateDataSets\\datasets\\Static-Hand-Gestures-Alphabet-ThinkName\n"
     ]
    }
   ],
   "source": [
    "# Variables a considerar\n",
    "IMG_SIZE = 224\n",
    "DATASET_PATH = os.path.abspath(\n",
    "    os.path.join(os.getcwd(), \"..\", \"Static-Hand-Gestures-of-the-Peruvian-Sign-Language-Alphabet-master\")\n",
    ")\n",
    "\n",
    "OUTPUT_PATH = os.path.abspath(\n",
    "    os.path.join(os.getcwd(), \"datasets\", \"Static-Hand-Gestures-Alphabet-ThinkName\")\n",
    ")\n",
    "\n",
    "# Rango de piel en YCbCr\n",
    "lower_skin = np.array([0, 133, 77], dtype=np.uint8)\n",
    "upper_skin = np.array([255, 173, 127], dtype=np.uint8)\n",
    "\n",
    "print(\"Dataset path:\", DATASET_PATH)\n",
    "print(\"Output path:\", OUTPUT_PATH)\n"
   ]
  },
  {
   "cell_type": "code",
   "execution_count": 8,
   "id": "f446dd9a",
   "metadata": {},
   "outputs": [],
   "source": [
    "def preprocess_image(image):\n",
    "    # 1. Convertir RGB → YCbCr\n",
    "    ycbcr = cv2.cvtColor(image, cv2.COLOR_BGR2YCrCb)  \n",
    "\n",
    "    # OpenCV usa orden Y,Cr,Cb → reordenamos para Y,Cb,Cr\n",
    "    Y, Cr, Cb = cv2.split(ycbcr)\n",
    "    ycbcr = cv2.merge([Y, Cb, Cr])\n",
    "\n",
    "    # 2. Segmentación de piel con máscara\n",
    "    mask = cv2.inRange(ycbcr, lower_skin, upper_skin)\n",
    "    skin = cv2.bitwise_and(image, image, mask=mask)\n",
    "\n",
    "    # 3. Redimensionar a 224x224\n",
    "    resized = cv2.resize(skin, (IMG_SIZE, IMG_SIZE))\n",
    "\n",
    "    # 4. Normalizar valores de píxel [0,1]\n",
    "    normalized = resized.astype(\"float32\") / 255.0\n",
    "\n",
    "    return normalized"
   ]
  },
  {
   "cell_type": "code",
   "execution_count": 9,
   "id": "ed848c31",
   "metadata": {},
   "outputs": [],
   "source": [
    "def process_dataset():\n",
    "    if not os.path.exists(OUTPUT_PATH):\n",
    "        os.makedirs(OUTPUT_PATH)\n",
    "\n",
    "    for class_name in os.listdir(DATASET_PATH):\n",
    "        class_path = os.path.join(DATASET_PATH, class_name)\n",
    "        if not os.path.isdir(class_path):\n",
    "            continue\n",
    "\n",
    "        output_class_path = os.path.join(OUTPUT_PATH, class_name)\n",
    "        os.makedirs(output_class_path, exist_ok=True)\n",
    "        print(output_class_path)\n",
    "\n",
    "        for img_name in os.listdir(class_path):\n",
    "            img_path = os.path.join(class_path, img_name)\n",
    "            image = cv2.imread(img_path)\n",
    "\n",
    "            if image is None:\n",
    "                continue\n",
    "\n",
    "            processed = preprocess_image(image)\n",
    "\n",
    "            # Guardar imagen preprocesada como .npy\n",
    "            out_name = os.path.splitext(img_name)[0] + \".npy\"\n",
    "            np.save(os.path.join(output_class_path, out_name), processed)\n",
    "\n",
    "        print(f\"[OK] Clase {class_name} procesada.\")"
   ]
  },
  {
   "cell_type": "code",
   "execution_count": 10,
   "id": "510fb5f1",
   "metadata": {},
   "outputs": [
    {
     "name": "stdout",
     "output_type": "stream",
     "text": [
      "c:\\Users\\sebas\\Documents\\Programacion\\project\\TraductorLSP\\CreateDataSets\\datasets\\Static-Hand-Gestures-Alphabet-ThinkName\\a\n",
      "[OK] Clase a procesada.\n",
      "c:\\Users\\sebas\\Documents\\Programacion\\project\\TraductorLSP\\CreateDataSets\\datasets\\Static-Hand-Gestures-Alphabet-ThinkName\\b\n",
      "[OK] Clase b procesada.\n",
      "c:\\Users\\sebas\\Documents\\Programacion\\project\\TraductorLSP\\CreateDataSets\\datasets\\Static-Hand-Gestures-Alphabet-ThinkName\\c\n",
      "[OK] Clase c procesada.\n",
      "c:\\Users\\sebas\\Documents\\Programacion\\project\\TraductorLSP\\CreateDataSets\\datasets\\Static-Hand-Gestures-Alphabet-ThinkName\\d\n",
      "[OK] Clase d procesada.\n",
      "c:\\Users\\sebas\\Documents\\Programacion\\project\\TraductorLSP\\CreateDataSets\\datasets\\Static-Hand-Gestures-Alphabet-ThinkName\\e\n",
      "[OK] Clase e procesada.\n",
      "c:\\Users\\sebas\\Documents\\Programacion\\project\\TraductorLSP\\CreateDataSets\\datasets\\Static-Hand-Gestures-Alphabet-ThinkName\\f\n",
      "[OK] Clase f procesada.\n",
      "c:\\Users\\sebas\\Documents\\Programacion\\project\\TraductorLSP\\CreateDataSets\\datasets\\Static-Hand-Gestures-Alphabet-ThinkName\\g\n",
      "[OK] Clase g procesada.\n",
      "c:\\Users\\sebas\\Documents\\Programacion\\project\\TraductorLSP\\CreateDataSets\\datasets\\Static-Hand-Gestures-Alphabet-ThinkName\\h\n",
      "[OK] Clase h procesada.\n",
      "c:\\Users\\sebas\\Documents\\Programacion\\project\\TraductorLSP\\CreateDataSets\\datasets\\Static-Hand-Gestures-Alphabet-ThinkName\\i\n",
      "[OK] Clase i procesada.\n",
      "c:\\Users\\sebas\\Documents\\Programacion\\project\\TraductorLSP\\CreateDataSets\\datasets\\Static-Hand-Gestures-Alphabet-ThinkName\\k\n",
      "[OK] Clase k procesada.\n",
      "c:\\Users\\sebas\\Documents\\Programacion\\project\\TraductorLSP\\CreateDataSets\\datasets\\Static-Hand-Gestures-Alphabet-ThinkName\\l\n",
      "[OK] Clase l procesada.\n",
      "c:\\Users\\sebas\\Documents\\Programacion\\project\\TraductorLSP\\CreateDataSets\\datasets\\Static-Hand-Gestures-Alphabet-ThinkName\\m\n",
      "[OK] Clase m procesada.\n",
      "c:\\Users\\sebas\\Documents\\Programacion\\project\\TraductorLSP\\CreateDataSets\\datasets\\Static-Hand-Gestures-Alphabet-ThinkName\\n\n",
      "[OK] Clase n procesada.\n",
      "c:\\Users\\sebas\\Documents\\Programacion\\project\\TraductorLSP\\CreateDataSets\\datasets\\Static-Hand-Gestures-Alphabet-ThinkName\\o\n",
      "[OK] Clase o procesada.\n",
      "c:\\Users\\sebas\\Documents\\Programacion\\project\\TraductorLSP\\CreateDataSets\\datasets\\Static-Hand-Gestures-Alphabet-ThinkName\\p\n",
      "[OK] Clase p procesada.\n",
      "c:\\Users\\sebas\\Documents\\Programacion\\project\\TraductorLSP\\CreateDataSets\\datasets\\Static-Hand-Gestures-Alphabet-ThinkName\\q\n",
      "[OK] Clase q procesada.\n",
      "c:\\Users\\sebas\\Documents\\Programacion\\project\\TraductorLSP\\CreateDataSets\\datasets\\Static-Hand-Gestures-Alphabet-ThinkName\\r\n",
      "[OK] Clase r procesada.\n",
      "c:\\Users\\sebas\\Documents\\Programacion\\project\\TraductorLSP\\CreateDataSets\\datasets\\Static-Hand-Gestures-Alphabet-ThinkName\\s\n",
      "[OK] Clase s procesada.\n",
      "c:\\Users\\sebas\\Documents\\Programacion\\project\\TraductorLSP\\CreateDataSets\\datasets\\Static-Hand-Gestures-Alphabet-ThinkName\\t\n",
      "[OK] Clase t procesada.\n",
      "c:\\Users\\sebas\\Documents\\Programacion\\project\\TraductorLSP\\CreateDataSets\\datasets\\Static-Hand-Gestures-Alphabet-ThinkName\\u\n",
      "[OK] Clase u procesada.\n",
      "c:\\Users\\sebas\\Documents\\Programacion\\project\\TraductorLSP\\CreateDataSets\\datasets\\Static-Hand-Gestures-Alphabet-ThinkName\\v\n",
      "[OK] Clase v procesada.\n",
      "c:\\Users\\sebas\\Documents\\Programacion\\project\\TraductorLSP\\CreateDataSets\\datasets\\Static-Hand-Gestures-Alphabet-ThinkName\\w\n",
      "[OK] Clase w procesada.\n",
      "c:\\Users\\sebas\\Documents\\Programacion\\project\\TraductorLSP\\CreateDataSets\\datasets\\Static-Hand-Gestures-Alphabet-ThinkName\\x\n",
      "[OK] Clase x procesada.\n",
      "c:\\Users\\sebas\\Documents\\Programacion\\project\\TraductorLSP\\CreateDataSets\\datasets\\Static-Hand-Gestures-Alphabet-ThinkName\\y\n",
      "[OK] Clase y procesada.\n"
     ]
    }
   ],
   "source": [
    "process_dataset()"
   ]
  }
 ],
 "metadata": {
  "kernelspec": {
   "display_name": "Python 3",
   "language": "python",
   "name": "python3"
  },
  "language_info": {
   "codemirror_mode": {
    "name": "ipython",
    "version": 3
   },
   "file_extension": ".py",
   "mimetype": "text/x-python",
   "name": "python",
   "nbconvert_exporter": "python",
   "pygments_lexer": "ipython3",
   "version": "3.10.11"
  }
 },
 "nbformat": 4,
 "nbformat_minor": 5
}
